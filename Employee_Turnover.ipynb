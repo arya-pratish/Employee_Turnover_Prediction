{
  "cells": [
    {
      "cell_type": "code",
      "execution_count": null,
      "metadata": {
        "colab": {
          "base_uri": "https://localhost:8080/"
        },
        "collapsed": true,
        "id": "iVbP_K6P9aC4",
        "outputId": "2fce1f33-387e-433b-9f0e-d4fb3bdde710"
      },
      "outputs": [],
      "source": [
        "pip install hvplot holoviews"
      ]
    },
    {
      "cell_type": "code",
      "execution_count": null,
      "metadata": {
        "colab": {
          "base_uri": "https://localhost:8080/",
          "height": 17
        },
        "id": "KwzoOCre3yiR",
        "outputId": "bf08b6f9-c278-46a0-af0a-dd12a637cf2e"
      },
      "outputs": [],
      "source": [
        "# Import libraries from python\n",
        "import numpy as np\n",
        "import pandas as pd\n",
        "import matplotlib.pyplot as plt\n",
        "import seaborn as sns\n",
        "from scipy.stats import pearsonr\n",
        "import hvplot.pandas"
      ]
    },
    {
      "cell_type": "code",
      "execution_count": null,
      "metadata": {
        "id": "7xxHVg6I39sa"
      },
      "outputs": [],
      "source": [
        "# Load the csv files\n",
        "\n",
        "df_IT= pd.read_csv('/workspaces/Employee_Turnover_Prediction/HR-Employee-Attrition.csv')\n",
        "df_health= pd.read_csv('/workspaces/Employee_Turnover_Prediction/watson_healthcare.csv')"
      ]
    },
    {
      "cell_type": "markdown",
      "metadata": {
        "id": "Svzld6CO4xWW"
      },
      "source": [
        "Drop unwanted columns from both the dataset"
      ]
    },
    {
      "cell_type": "code",
      "execution_count": null,
      "metadata": {
        "id": "79J6pfC87lit"
      },
      "outputs": [],
      "source": [
        "df_IT.drop(['EmployeeCount', 'EmployeeNumber', 'Over18', 'StandardHours'], axis=1, inplace=True)\n",
        "df_health.drop(['EmployeeCount', 'EmployeeID', 'Over18', 'StandardHours'], axis=1, inplace=True)"
      ]
    },
    {
      "cell_type": "code",
      "execution_count": null,
      "metadata": {
        "colab": {
          "base_uri": "https://localhost:8080/"
        },
        "id": "-v1bS3dvwPXB",
        "outputId": "3b1c4fe9-2697-4a53-bd87-28a40434c37f"
      },
      "outputs": [],
      "source": [
        "# Check for duplicate rows in IT sector data\n",
        "df_IT.duplicated().sum()"
      ]
    },
    {
      "cell_type": "code",
      "execution_count": null,
      "metadata": {
        "colab": {
          "base_uri": "https://localhost:8080/"
        },
        "id": "JJKuP0alrCYh",
        "outputId": "59bf3e19-233a-425c-b6ca-8d968d093a46"
      },
      "outputs": [],
      "source": [
        "# Check for duplicate rows in healthcare data\n",
        "df_health.duplicated().sum()"
      ]
    },
    {
      "cell_type": "markdown",
      "metadata": {
        "id": "qoVyUBPM5VQb"
      },
      "source": [
        "As there is 56 duplicate rows in healthcare dataset, so we need to drop those rows"
      ]
    },
    {
      "cell_type": "code",
      "execution_count": null,
      "metadata": {
        "id": "bdV9_FV-wJv_"
      },
      "outputs": [],
      "source": [
        "# Drop duplicate rows\n",
        "df_health.drop_duplicates(inplace=True)"
      ]
    },
    {
      "cell_type": "code",
      "execution_count": null,
      "metadata": {
        "colab": {
          "base_uri": "https://localhost:8080/",
          "height": 770
        },
        "id": "Ynjf2K52eK1v",
        "outputId": "303b7f3e-c402-4549-a000-37cfe6a7f2db"
      },
      "outputs": [],
      "source": [
        "# Basic summary statistics for numerical columns in df_health\n",
        "df_health.describe().T"
      ]
    },
    {
      "cell_type": "code",
      "execution_count": null,
      "metadata": {
        "colab": {
          "base_uri": "https://localhost:8080/",
          "height": 770
        },
        "id": "oMOm37s47cgo",
        "outputId": "caddc3f6-6c56-4621-e519-b1b3795c62a3"
      },
      "outputs": [],
      "source": [
        "# Basic summary statistics for numerical columns in df_IT\n",
        "df_IT.describe().T"
      ]
    },
    {
      "cell_type": "code",
      "execution_count": null,
      "metadata": {
        "colab": {
          "base_uri": "https://localhost:8080/",
          "height": 1000
        },
        "id": "S5ZePsUJTIOj",
        "outputId": "edb9411c-1357-4b63-c917-6c5157b13b71"
      },
      "outputs": [],
      "source": [
        "# Compare columns from both the database\n",
        "pd.DataFrame(df_IT.columns.to_list(), df_health.columns.to_list())"
      ]
    },
    {
      "cell_type": "markdown",
      "metadata": {
        "id": "XsV47bPH6Cys"
      },
      "source": [
        "However, in df_IT dataframe, the column name of 'Shift' is represented as 'StockOptionLevel'"
      ]
    },
    {
      "cell_type": "code",
      "execution_count": null,
      "metadata": {
        "id": "QlxLHrFbjDeW"
      },
      "outputs": [],
      "source": [
        "# Rename the column name\n",
        "df_IT.rename(columns={'StockOptionLevel': 'Shift'}, inplace=True)"
      ]
    },
    {
      "cell_type": "code",
      "execution_count": null,
      "metadata": {
        "id": "ROGPuZz8s_cn"
      },
      "outputs": [],
      "source": [
        "# Merge both the datasets row-wise\n",
        "df_merge = pd.concat([df_IT,df_health],ignore_index=True)"
      ]
    },
    {
      "cell_type": "code",
      "execution_count": null,
      "metadata": {
        "colab": {
          "base_uri": "https://localhost:8080/"
        },
        "id": "Y74sOUQixBN4",
        "outputId": "99b3a984-5110-434c-885c-492e3bd301b0"
      },
      "outputs": [],
      "source": [
        "# Check for duplicate value in merged data\n",
        "df_merge.duplicated().sum()"
      ]
    },
    {
      "cell_type": "code",
      "execution_count": null,
      "metadata": {
        "colab": {
          "base_uri": "https://localhost:8080/"
        },
        "id": "drcnKPQGH9k7",
        "outputId": "16716f90-93aa-4add-baba-82b6e8de2ced"
      },
      "outputs": [],
      "source": [
        "# Shape of data\n",
        "df_merge.shape"
      ]
    },
    {
      "cell_type": "code",
      "execution_count": null,
      "metadata": {
        "colab": {
          "base_uri": "https://localhost:8080/",
          "height": 255
        },
        "id": "zUegPPMXHzj3",
        "outputId": "dccf12c6-8d7f-4d8f-85be-ff1cd2c16b81"
      },
      "outputs": [],
      "source": [
        "# Sample data of df_merge\n",
        "df_merge.tail()"
      ]
    },
    {
      "cell_type": "code",
      "execution_count": null,
      "metadata": {
        "colab": {
          "base_uri": "https://localhost:8080/"
        },
        "id": "_yflq_MMU7lq",
        "outputId": "3bbcb3b5-18fe-430f-8b25-fcd5c4f640a5"
      },
      "outputs": [],
      "source": [
        "# Display unique value for each numerical data column,\n",
        "# where unique value of column is less than equal to 20\n",
        "for col in df_merge.columns:\n",
        "    if df_merge[col].dtype != 'object' and df_merge[col].nunique() <= 20:\n",
        "      print(f\" {col} : {df_merge[col].unique()}\\n\")\n"
      ]
    },
    {
      "cell_type": "code",
      "execution_count": null,
      "metadata": {
        "colab": {
          "base_uri": "https://localhost:8080/"
        },
        "id": "q3tv2jTWgbs_",
        "outputId": "fff87f26-d710-4922-f25b-c7bbcc74eaa7"
      },
      "outputs": [],
      "source": [
        "# Display count, min and max value for each numerical column,\n",
        "# where unique value of column is greater than 20\n",
        "for col in df_merge.columns:\n",
        "    if df_merge[col].dtype != 'object' and df_merge[col].nunique() > 20:\n",
        "      print(f\" {col} :\\n Count: {df_merge[col].nunique()}, Minimum: {df_merge[col].min()}, Maximum: {df_merge[col].max()}\\n\")\n"
      ]
    },
    {
      "cell_type": "code",
      "execution_count": null,
      "metadata": {
        "colab": {
          "base_uri": "https://localhost:8080/"
        },
        "id": "mH82L_yffJgO",
        "outputId": "4e11bb79-ba7a-4cf7-fcd5-fc320f316fc5"
      },
      "outputs": [],
      "source": [
        "# Identify categorical columns\n",
        "categorical_cols = df_merge.select_dtypes(include=['object']).columns\n",
        "print(\"\\nCategorical Columns:\")\n",
        "print(categorical_cols.tolist())\n",
        "\n",
        "# Display unique values for each categorical column\n",
        "print(\"\\nUnique values in categorical columns:\")\n",
        "for col in categorical_cols:\n",
        "    print(f\" {df_merge[col].value_counts()}\\n\")"
      ]
    },
    {
      "cell_type": "code",
      "execution_count": null,
      "metadata": {
        "id": "iu_-rfY_UdZj"
      },
      "outputs": [],
      "source": [
        "# Label Encoding\n",
        "# Convert OverTime to numeric: Yes=1, No=0\n",
        "df_merge['OverTime'] = df_merge['OverTime'].map({'Yes': 1, 'No': 0})\n",
        "\n",
        "# Convert Attrition to numeric: Yes=1, No=0\n",
        "df_merge['Attrition'] = df_merge['Attrition'].map({'Yes': 1, 'No': 0})\n",
        "\n",
        "# Convert BusinessTravel to numeric\n",
        "df_merge['BusinessTravel'] = df_merge['BusinessTravel'].map({'Non-Travel': 0, 'Travel_Rarely': 1, 'Travel_Frequently': 2})"
      ]
    },
    {
      "cell_type": "code",
      "execution_count": null,
      "metadata": {
        "colab": {
          "base_uri": "https://localhost:8080/"
        },
        "id": "NEqLjVT5ji79",
        "outputId": "9af0e4ad-1b80-4414-c813-1931b7962bb9"
      },
      "outputs": [],
      "source": [
        "# One hot Encoding\n",
        "# Transform categorical data into dummies\n",
        "dummy_col = [column for column in df_merge.select_dtypes(include=['object']).columns]\n",
        "\n",
        "# Implementing one-hot encoding\n",
        "data = pd.get_dummies(df_merge, columns=dummy_col, drop_first=True, dtype='uint8')\n",
        "\n",
        "# Column info of encoded data\n",
        "data.info()"
      ]
    },
    {
      "cell_type": "markdown",
      "metadata": {
        "id": "T3xlrFEgLwFQ"
      },
      "source": [
        "# Exploratory Data Analysis"
      ]
    },
    {
      "cell_type": "code",
      "execution_count": null,
      "metadata": {
        "colab": {
          "base_uri": "https://localhost:8080/",
          "height": 1000
        },
        "id": "L-5kJnlBNyN6",
        "outputId": "54e96065-08dc-4539-fc3b-886620cbb512"
      },
      "outputs": [],
      "source": [
        "# Correlation with Attrition\n",
        "correlation = data.corr(numeric_only=True)['Attrition'].sort_values(ascending=False)\n",
        "\n",
        "# Display correlation values\n",
        "print(\"Correlation with Attrition:\")\n",
        "print(correlation)\n",
        "\n",
        "# Plot the top 10 positive and negative correlations (excluding Attrition itself)\n",
        "correlation_filtered = correlation.drop('Attrition')\n",
        "top_positive = correlation_filtered.head(10)\n",
        "top_negative = correlation_filtered.tail(10)\n",
        "\n",
        "# Combine for plotting\n",
        "combined = pd.concat([top_positive, top_negative])\n",
        "\n",
        "\n",
        "# Plot\n",
        "plt.figure(figsize=(10, 6))\n",
        "sns.barplot(x=combined.values, y=combined.index, palette='coolwarm')\n",
        "plt.xlabel('Correlation Coefficient')\n",
        "plt.ylabel('Features')\n",
        "plt.grid(True)\n",
        "plt.tight_layout()\n",
        "plt.savefig('correlation_plot.png')"
      ]
    },
    {
      "cell_type": "code",
      "execution_count": null,
      "metadata": {
        "colab": {
          "base_uri": "https://localhost:8080/",
          "height": 588
        },
        "collapsed": true,
        "id": "qrbhQxZZPrzo",
        "outputId": "e6c4ab3a-26f3-49dd-a349-fd52b3527a6a"
      },
      "outputs": [],
      "source": [
        "# Correlation martix with important features\n",
        "correlation1= data.corr(numeric_only=True)\n",
        "imp_feat= correlation1['Attrition'].abs() > 0.085\n",
        "imp_corr= correlation1.loc[imp_feat,imp_feat]\n",
        "\n",
        "# Triangular Heatmap\n",
        "mask = np.triu(np.ones_like(imp_corr, dtype=bool))\n",
        "cmap = sns.diverging_palette(225, 20, as_cmap=True)\n",
        "plt.figure(figsize=(6,4))\n",
        "sns.heatmap(imp_corr, mask= mask, cmap='RdBu', center=0, vmin=-0.3, vmax=0.5)\n",
        "plt.title(\" Correlation Heatmap\")\n",
        "plt.savefig('correlation_heatmap.png')"
      ]
    },
    {
      "cell_type": "code",
      "execution_count": null,
      "metadata": {
        "colab": {
          "base_uri": "https://localhost:8080/",
          "height": 388
        },
        "id": "Y_5zeutLyBKx",
        "outputId": "02a18292-6836-4787-9b02-ba853e3e8ee2"
      },
      "outputs": [],
      "source": [
        "# Histplot of TotalWorkingYears with Attrition\n",
        "plt.figure(figsize=(6, 4))\n",
        "sns.histplot(data=df_merge, x='TotalWorkingYears', hue='Attrition', multiple='stack', discrete= True, palette=['cornflowerblue', 'orangered'])\n",
        "plt.savefig('TotalWorkingYears_bar_plot.png')"
      ]
    },
    {
      "cell_type": "code",
      "execution_count": null,
      "metadata": {
        "colab": {
          "base_uri": "https://localhost:8080/",
          "height": 388
        },
        "id": "xWVtBgR0tW1C",
        "outputId": "de45a334-5a31-4549-a845-a9ab3e846eba"
      },
      "outputs": [],
      "source": [
        "# Histplot of Age with Attrition\n",
        "plt.figure(figsize=(6, 4))\n",
        "sns.histplot(data=df_merge, x='Age', hue='Attrition', multiple='stack', discrete= True, palette= ['cornflowerblue', 'orangered'])\n",
        "plt.savefig('Age_bar_plot.png')"
      ]
    },
    {
      "cell_type": "code",
      "execution_count": null,
      "metadata": {
        "colab": {
          "base_uri": "https://localhost:8080/",
          "height": 327
        },
        "id": "etO8nJxr4gXK",
        "outputId": "9d7bf358-026a-45c8-f985-1998f46936ac"
      },
      "outputs": [],
      "source": [
        "# Histplot of MonthlyIncome with Attrition\n",
        "\n",
        "data.hvplot.hist(y='MonthlyIncome', by='Attrition', subplots=False, width=600, height=300, bins=10, ylabel='Count', color=['cornflowerblue', 'orangered'])"
      ]
    },
    {
      "cell_type": "code",
      "execution_count": null,
      "metadata": {
        "colab": {
          "base_uri": "https://localhost:8080/",
          "height": 327
        },
        "id": "0zPzjxS0D4YY",
        "outputId": "8eee3d86-d366-44bb-e1b0-f5cb3a83587d"
      },
      "outputs": [],
      "source": [
        "# Histplot of OverTime with Attrition\n",
        "\n",
        "data.hvplot.hist(y='OverTime', by='Attrition', subplots=False, width=600, height=300, ylabel= 'Frequency', color=['cornflowerblue', 'orangered'])"
      ]
    },
    {
      "cell_type": "code",
      "execution_count": null,
      "metadata": {
        "colab": {
          "base_uri": "https://localhost:8080/",
          "height": 449
        },
        "id": "t0fpVHrpErqD",
        "outputId": "60b80707-0146-4598-eaa5-66ab756a202e"
      },
      "outputs": [],
      "source": [
        "# Barplot of MaritalStatus with Attrition\n",
        "df = df_merge.groupby('MaritalStatus')['Attrition'].value_counts()\n",
        "sns.barplot(x=df.index.get_level_values(0), y=df.values, hue=df.index.get_level_values(1), palette=['cornflowerblue', 'orangered'],  )\n",
        "plt.xlabel('Marital Status')\n",
        "plt.ylabel('Count')\n",
        "\n",
        "plt.savefig('MarritalStatus_bar_plot.png')"
      ]
    },
    {
      "cell_type": "markdown",
      "metadata": {
        "id": "2qeit717Lq8T"
      },
      "source": [
        "# "
      ]
    },
    {
      "cell_type": "code",
      "execution_count": null,
      "metadata": {
        "id": "R_HdtwYPpRfA"
      },
      "outputs": [],
      "source": [
        "from sklearn.model_selection import train_test_split\n",
        "from sklearn.preprocessing import StandardScaler\n",
        "\n",
        "X = data.drop('Attrition', axis=1)\n",
        "y = data.Attrition\n",
        "\n",
        "# Split the dataset into training and testing ratio of 70:30\n",
        "X_train, X_test, y_train, y_test = train_test_split(X, y, test_size=0.3, random_state=42,\n",
        "                                                    stratify=y)\n",
        "\n",
        "# Standard Scaling\n",
        "standard_scaler = StandardScaler()\n",
        "X_train_std = standard_scaler.fit_transform(X_train)\n",
        "X_test_std = standard_scaler.transform(X_test)\n"
      ]
    },
    {
      "cell_type": "code",
      "execution_count": null,
      "metadata": {
        "colab": {
          "base_uri": "https://localhost:8080/",
          "height": 178
        },
        "id": "rV6RaUJXKvnU",
        "outputId": "126f0dcb-42a9-494b-8a9b-7eff4e2bbaa4"
      },
      "outputs": [],
      "source": [
        "y.value_counts()"
      ]
    },
    {
      "cell_type": "code",
      "execution_count": null,
      "metadata": {
        "colab": {
          "base_uri": "https://localhost:8080/",
          "height": 367
        },
        "id": "1wGlsd4LPJZg",
        "outputId": "f56dc067-4951-4e4a-d20c-39a80a68b02b"
      },
      "outputs": [],
      "source": [
        "# Create the pie chart of Attrition\n",
        "x=data.drop([\"Attrition\"],axis=1)\n",
        "y=data[\"Attrition\"]\n",
        "\n",
        "count_class = y.value_counts() # Count the occurrences of each class\n",
        "\n",
        "plt.figure(figsize=(4,4))\n",
        "plt.pie(\n",
        "    count_class.values,\n",
        "    labels= ['not left', 'left'],\n",
        "    colors= ['cyan', 'deeppink'] ,\n",
        "    explode= (0, 0.1),\n",
        "    autopct='%1.1f %%',\n",
        "    shadow=True,\n",
        "    startangle=90\n",
        ")\n",
        "\n",
        "plt.axis('equal')  # Equal aspect ratio ensures it's a circle\n",
        "plt.title('Employee Attrition', fontsize=12)\n",
        "plt.savefig('pie_chart.png')\n"
      ]
    },
    {
      "cell_type": "code",
      "execution_count": null,
      "metadata": {},
      "outputs": [],
      "source": [
        "!pip install imbalanced-learn"
      ]
    },
    {
      "cell_type": "code",
      "execution_count": null,
      "metadata": {
        "colab": {
          "base_uri": "https://localhost:8080/",
          "height": 178
        },
        "id": "NOvATnxmgru8",
        "outputId": "e4a1af8f-1fc4-4057-a175-71447c21dd81"
      },
      "outputs": [],
      "source": [
        "from imblearn.over_sampling import SMOTE\n",
        "\n",
        "# Applying SMOTE technique to balance the class\n",
        "\n",
        "smote = SMOTE(sampling_strategy='minority', random_state= 42)\n",
        "X_train_std_resampled, y_train_std_resampled = smote.fit_resample(X_train_std, y_train)\n",
        "y_train_std_resampled.value_counts()"
      ]
    },
    {
      "cell_type": "code",
      "execution_count": null,
      "metadata": {
        "id": "NDQKuqkfKyXv"
      },
      "outputs": [],
      "source": [
        "from sklearn.decomposition import PCA\n",
        "\n",
        "# Apply PCA (after SMOTE)\n",
        "pca1 = PCA(n_components=.95)  # Reduce till 95% variance dimensions\n",
        "X_train_std_pca = pca1.fit_transform(X_train_std_resampled)\n",
        "X_test_std_pca = pca1.transform(X_test_std)"
      ]
    },
    {
      "cell_type": "code",
      "execution_count": null,
      "metadata": {
        "id": "rFKN19ZMlANd"
      },
      "outputs": [],
      "source": [
        "# Apply PCA (no SMOTE)\n",
        "pca2 = PCA(n_components=.95)  # Reduce till 95% variance dimensions\n",
        "X_train_pca = pca2.fit_transform(X_train_std)\n",
        "X_test_pca = pca2.transform(X_test_std)"
      ]
    },
    {
      "cell_type": "code",
      "execution_count": null,
      "metadata": {
        "colab": {
          "base_uri": "https://localhost:8080/"
        },
        "id": "ZCAmsV49qmht",
        "outputId": "696c7351-96d9-4a7f-c9bb-5bb27c6621c9"
      },
      "outputs": [],
      "source": [
        "print(\"Explained variance:\", pca1.explained_variance_ratio_)\n",
        "print(\"Cumulative:\", np.cumsum(pca1.explained_variance_ratio_))"
      ]
    },
    {
      "cell_type": "code",
      "execution_count": null,
      "metadata": {
        "id": "JY2ku2GBr5VB"
      },
      "outputs": [],
      "source": [
        "from sklearn.metrics import confusion_matrix, accuracy_score, classification_report, roc_auc_score\n",
        "from sklearn.metrics import precision_score, recall_score, f1_score\n",
        "\n",
        "# Define a function to evaluate the model\n",
        "def evaluate(model, X_train, X_test, y_train, y_test):\n",
        "    y_test_pred = model.predict(X_test)\n",
        "    y_train_pred = model.predict(X_train)\n",
        "\n",
        "    print(\"TRAINIG RESULTS: \\n===============================\")\n",
        "    clf_report = pd.DataFrame(classification_report(y_train, y_train_pred, output_dict=True))\n",
        "    print(f\"CONFUSION MATRIX:\\n{confusion_matrix(y_train, y_train_pred)}\")\n",
        "    print(f\"ACCURACY SCORE:\\n{accuracy_score(y_train, y_train_pred):.4f}\")\n",
        "    print(f\"CLASSIFICATION REPORT:\\n{clf_report}\")\n",
        "\n",
        "    print(\"TESTING RESULTS: \\n===============================\")\n",
        "    clf_report = pd.DataFrame(classification_report(y_test, y_test_pred, output_dict=True))\n",
        "    print(f\"CONFUSION MATRIX:\\n{confusion_matrix(y_test, y_test_pred)}\")\n",
        "    print(f\"ACCURACY SCORE:\\n{accuracy_score(y_test, y_test_pred):.4f}\")\n",
        "    print(f\"CLASSIFICATION REPORT:\\n{clf_report}\")\n",
        "    print(f\"PRECISION SCORE:\\n{precision_score(y_test, y_test_pred):.4f}\")\n",
        "    print(f\"RECALL SCORE:\\n{recall_score(y_test, y_test_pred):.4f}\")\n",
        "    print(f\"F1 SCORE:\\n{f1_score(y_test, y_test_pred):.4f}\")\n",
        "    print(f\"AUC SCORE:\\n{roc_auc_score(y_test, y_test_pred):.4f}\")\n",
        "    print(\"===============================\")"
      ]
    },
    {
      "cell_type": "markdown",
      "metadata": {
        "id": "6csGTEBhLO2W"
      },
      "source": [
        "# Logistic Regression"
      ]
    },
    {
      "cell_type": "code",
      "execution_count": null,
      "metadata": {},
      "outputs": [],
      "source": [
        "from sklearn.linear_model import LogisticRegression"
      ]
    },
    {
      "cell_type": "code",
      "execution_count": null,
      "metadata": {
        "colab": {
          "base_uri": "https://localhost:8080/"
        },
        "id": "8BTTBsiBEZwD",
        "outputId": "f8ffcc63-15bb-40bd-c134-13b5d5c86d8e"
      },
      "outputs": [],
      "source": [
        "# Logistic Regression with SMOTE and PCA\n",
        "lr_clf = LogisticRegression(solver='liblinear', penalty='l1')\n",
        "lr_clf.fit(X_train_std_pca, y_train_std_resampled)\n",
        "\n",
        "evaluate(lr_clf, X_train_std_pca, X_test_std_pca, y_train_std_resampled, y_test)"
      ]
    },
    {
      "cell_type": "code",
      "execution_count": null,
      "metadata": {
        "colab": {
          "base_uri": "https://localhost:8080/"
        },
        "id": "56NmU-jBYG0x",
        "outputId": "b3b9a3fe-129b-4ad6-8d03-7b2170150024"
      },
      "outputs": [],
      "source": [
        "# Logistic Regression with SMOTE\n",
        "lr_clf = LogisticRegression(solver='liblinear', penalty='l1')\n",
        "lr_clf.fit(X_train_std_resampled, y_train_std_resampled)\n",
        "\n",
        "evaluate(lr_clf, X_train_std_resampled, X_test_std, y_train_std_resampled, y_test)"
      ]
    },
    {
      "cell_type": "code",
      "execution_count": null,
      "metadata": {
        "colab": {
          "base_uri": "https://localhost:8080/"
        },
        "id": "B5ubbZZnCBHG",
        "outputId": "0530b8ca-10d1-4013-bf36-06d78d335a1c"
      },
      "outputs": [],
      "source": [
        "# Logistic Regression with PCA\n",
        "lr_clf = LogisticRegression(solver='liblinear', penalty='l1')\n",
        "lr_clf.fit(X_train_pca, y_train)\n",
        "\n",
        "evaluate(lr_clf, X_train_pca, X_test_pca, y_train, y_test)"
      ]
    },
    {
      "cell_type": "code",
      "execution_count": null,
      "metadata": {
        "colab": {
          "base_uri": "https://localhost:8080/"
        },
        "id": "I9cGMrfhCasw",
        "outputId": "7e230315-6830-4dbc-aba8-59d990af6010"
      },
      "outputs": [],
      "source": [
        "# Logistic Regression without SMOTE/PCA\n",
        "lr_clf = LogisticRegression(solver='liblinear', penalty='l1')\n",
        "lr_clf.fit(X_train_std, y_train)\n",
        "\n",
        "evaluate(lr_clf, X_train_std, X_test_std, y_train, y_test)"
      ]
    },
    {
      "cell_type": "markdown",
      "metadata": {
        "id": "BXnTH8f2LHMl"
      },
      "source": [
        "# Random Forest"
      ]
    },
    {
      "cell_type": "code",
      "execution_count": null,
      "metadata": {},
      "outputs": [],
      "source": [
        "from sklearn.ensemble import RandomForestClassifier"
      ]
    },
    {
      "cell_type": "code",
      "execution_count": null,
      "metadata": {
        "colab": {
          "base_uri": "https://localhost:8080/"
        },
        "id": "Xuhgb-DoBOTD",
        "outputId": "a22a0087-0266-474f-8b01-34b7316a4470"
      },
      "outputs": [],
      "source": [
        "# Random Forest with SMOTE and PCA\n",
        "\n",
        "rf_clf = RandomForestClassifier(n_estimators=100, bootstrap=True, random_state=42,\n",
        "                                   max_depth=15\n",
        "                                    )\n",
        "rf_clf.fit(X_train_std_pca, y_train_std_resampled)\n",
        "\n",
        "evaluate(rf_clf, X_train_std_pca, X_test_std_pca, y_train_std_resampled, y_test)"
      ]
    },
    {
      "cell_type": "code",
      "execution_count": null,
      "metadata": {
        "colab": {
          "base_uri": "https://localhost:8080/"
        },
        "id": "3VY9dXcSXOQN",
        "outputId": "4960d662-17ac-4627-80e9-8313374692fe"
      },
      "outputs": [],
      "source": [
        "# Random Forest with SMOTE\n",
        "\n",
        "rf_clf = RandomForestClassifier(n_estimators=100, bootstrap=True, random_state=4,\n",
        "                                max_depth= None )\n",
        "rf_clf.fit(X_train_std_resampled, y_train_std_resampled)\n",
        "\n",
        "evaluate(rf_clf, X_train_std_resampled, X_test_std, y_train_std_resampled, y_test)"
      ]
    },
    {
      "cell_type": "code",
      "execution_count": null,
      "metadata": {
        "id": "VeQpOkptKCJ8"
      },
      "outputs": [],
      "source": [
        "def feature_imp(df, model):\n",
        "    fi = pd.DataFrame()\n",
        "    fi[\"feature\"] = df.columns\n",
        "    fi[\"importance\"] = model.feature_importances_\n",
        "    return fi.sort_values(by=\"importance\", ascending=False)"
      ]
    },
    {
      "cell_type": "code",
      "execution_count": null,
      "metadata": {
        "colab": {
          "base_uri": "https://localhost:8080/",
          "height": 559
        },
        "id": "1c7sNcaULbjj",
        "outputId": "21338999-2775-4340-be4d-e59bf934fcbc"
      },
      "outputs": [],
      "source": [
        "# Feature Importance according to Random Forest\n",
        "\n",
        "df = feature_imp(X, rf_clf)[:30]\n",
        "df.set_index('feature', inplace=True)\n",
        "df.plot(kind='barh', figsize=(6, 6))\n",
        "plt.xlabel('Feature Importance Score')"
      ]
    },
    {
      "cell_type": "code",
      "execution_count": null,
      "metadata": {
        "colab": {
          "base_uri": "https://localhost:8080/"
        },
        "id": "6S9epycQGPwD",
        "outputId": "aae90c96-6148-4fe2-90b4-cbec30108827"
      },
      "outputs": [],
      "source": [
        "# Random Forest with PCA\n",
        "\n",
        "rf_clf = RandomForestClassifier(n_estimators=100, bootstrap=True, random_state=42,\n",
        "                                max_depth=15\n",
        "                                    )\n",
        "rf_clf.fit(X_train_pca, y_train)\n",
        "\n",
        "evaluate(rf_clf, X_train_pca, X_test_pca, y_train, y_test)"
      ]
    },
    {
      "cell_type": "code",
      "execution_count": null,
      "metadata": {
        "colab": {
          "base_uri": "https://localhost:8080/"
        },
        "id": "CqatyqC8GCWS",
        "outputId": "418266f8-b5c9-4a50-a424-f0d9741df391"
      },
      "outputs": [],
      "source": [
        "# Random Forest without SMOTE or PCA\n",
        "\n",
        "rf_clf = RandomForestClassifier(n_estimators=100, bootstrap=True, random_state=4,\n",
        "                                max_depth= None )\n",
        "\n",
        "rf_clf.fit(X_train_std, y_train)\n",
        "\n",
        "evaluate(rf_clf, X_train_std, X_test_std, y_train, y_test)"
      ]
    },
    {
      "cell_type": "markdown",
      "metadata": {
        "id": "8BcL-N9DK_uJ"
      },
      "source": [
        "# Linear-SVM"
      ]
    },
    {
      "cell_type": "code",
      "execution_count": null,
      "metadata": {},
      "outputs": [],
      "source": [
        "from sklearn.svm import SVC"
      ]
    },
    {
      "cell_type": "code",
      "execution_count": null,
      "metadata": {
        "colab": {
          "base_uri": "https://localhost:8080/"
        },
        "id": "2hw-vI3eYX1r",
        "outputId": "7f542b1b-a4d4-419e-ac0a-ac2090c3d704"
      },
      "outputs": [],
      "source": [
        "# Linear-SVM with SMOTE and PCA\n",
        "\n",
        "svm_clf = SVC(kernel='linear')\n",
        "svm_clf.fit(X_train_std_pca, y_train_std_resampled)\n",
        "\n",
        "evaluate(svm_clf, X_train_std_pca, X_test_std_pca, y_train_std_resampled, y_test)"
      ]
    },
    {
      "cell_type": "code",
      "execution_count": null,
      "metadata": {
        "colab": {
          "base_uri": "https://localhost:8080/"
        },
        "id": "izK20aUfUzW3",
        "outputId": "144770d0-9322-4c3e-9026-878d69a0461a"
      },
      "outputs": [],
      "source": [
        "# Linear-SVM with SMOTE\n",
        "\n",
        "svm_clf = SVC(kernel='linear')\n",
        "svm_clf.fit(X_train_std_resampled, y_train_std_resampled)\n",
        "\n",
        "evaluate(svm_clf, X_train_std_resampled, X_test_std, y_train_std_resampled, y_test)"
      ]
    },
    {
      "cell_type": "code",
      "execution_count": null,
      "metadata": {
        "colab": {
          "base_uri": "https://localhost:8080/"
        },
        "id": "I-65bsQqDiUm",
        "outputId": "8fa94f35-2a3c-4b3b-e92b-de72d9befaaa"
      },
      "outputs": [],
      "source": [
        "# Linear-SVM with PCA\n",
        "\n",
        "svm_clf = SVC(kernel='linear')\n",
        "svm_clf.fit(X_train_pca, y_train)\n",
        "\n",
        "evaluate(svm_clf, X_train_pca, X_test_pca, y_train, y_test)"
      ]
    },
    {
      "cell_type": "code",
      "execution_count": null,
      "metadata": {
        "colab": {
          "base_uri": "https://localhost:8080/"
        },
        "id": "TPtLVlsgRO5r",
        "outputId": "13ca837f-3bfe-46f6-dec5-86abf87de5fd"
      },
      "outputs": [],
      "source": [
        "# Linear-SVM without SMOTE or PCA\n",
        "\n",
        "svm_clf = SVC(kernel='linear')\n",
        "svm_clf.fit(X_train_std, y_train)\n",
        "\n",
        "evaluate(svm_clf, X_train_std, X_test_std, y_train, y_test)"
      ]
    },
    {
      "cell_type": "markdown",
      "metadata": {
        "id": "mSVxNInNK3If"
      },
      "source": [
        "# Radial Basis Function SVM"
      ]
    },
    {
      "cell_type": "code",
      "execution_count": null,
      "metadata": {
        "colab": {
          "base_uri": "https://localhost:8080/",
          "height": 183
        },
        "id": "SNS9qFhoUs3v",
        "outputId": "ecec41c5-aa4d-4f70-c1e6-cbcaf2899ac2"
      },
      "outputs": [],
      "source": [
        "# GridSearch (with SMOTE and PCA data)\n",
        "from sklearn.model_selection import GridSearchCV\n",
        "svm_clf = SVC(random_state=42)\n",
        "\n",
        "param_grid = [\n",
        "    {'C': [1, 10, 100], 'kernel': ['linear']},\n",
        "    {'C': [.1, 1, 10, 100], 'gamma': [0.001, 0.0001], 'kernel': ['rbf']}\n",
        "]\n",
        "\n",
        "search = GridSearchCV(svm_clf, param_grid=param_grid, scoring='roc_auc', cv=5, refit=True, verbose=1)\n",
        "search.fit(X_train_std_pca, y_train_std_resampled)"
      ]
    },
    {
      "cell_type": "code",
      "execution_count": null,
      "metadata": {
        "colab": {
          "base_uri": "https://localhost:8080/"
        },
        "id": "YwwjihOgaUBN",
        "outputId": "3b993dc6-9ecd-4c2d-c6d8-5ef8530b1f84"
      },
      "outputs": [],
      "source": [
        "# RBF-SVM with SMOTE and PCA\n",
        "\n",
        "svm_clf = SVC(kernel='rbf', C=10, gamma=0.001)\n",
        "svm_clf.fit(X_train_std_pca, y_train_std_resampled)\n",
        "\n",
        "evaluate(svm_clf, X_train_std_pca, X_test_std_pca, y_train_std_resampled, y_test)"
      ]
    },
    {
      "cell_type": "code",
      "execution_count": null,
      "metadata": {
        "colab": {
          "base_uri": "https://localhost:8080/",
          "height": 183
        },
        "id": "wmj3XsFyWc4o",
        "outputId": "9c8cfd5f-2bb3-43dd-a9aa-aaa4d5b45ce4"
      },
      "outputs": [],
      "source": [
        "# GridSearch (with SMOTE data)\n",
        "from sklearn.model_selection import GridSearchCV\n",
        "svm_clf = SVC(random_state=42)\n",
        "\n",
        "param_grid = [\n",
        "    {'C': [1, 10, 100], 'kernel': ['linear']},\n",
        "    {'C': [.1, 1, 10, 100], 'gamma': [0.001, 0.0001], 'kernel': ['rbf']}\n",
        "]\n",
        "\n",
        "search = GridSearchCV(svm_clf, param_grid=param_grid, scoring='roc_auc', cv=5, refit=True, verbose=1)\n",
        "search.fit(X_train_std_resampled, y_train_std_resampled)"
      ]
    },
    {
      "cell_type": "code",
      "execution_count": null,
      "metadata": {
        "colab": {
          "base_uri": "https://localhost:8080/"
        },
        "id": "40M-LWU0V0mv",
        "outputId": "9ad8507d-5a6b-447a-e072-ebf22eafd965"
      },
      "outputs": [],
      "source": [
        "# RBF-SVM with SMOTE\n",
        "\n",
        "svm_clf = SVC(kernel='rbf', C=10, gamma=0.001)\n",
        "svm_clf.fit(X_train_std_resampled, y_train_std_resampled)\n",
        "\n",
        "evaluate(svm_clf, X_train_std_resampled, X_test_std, y_train_std_resampled, y_test)"
      ]
    },
    {
      "cell_type": "code",
      "execution_count": null,
      "metadata": {
        "colab": {
          "base_uri": "https://localhost:8080/",
          "height": 183
        },
        "id": "ur-tZc2nZCpX",
        "outputId": "ae1d9332-1d8f-479a-f38b-16b3e30f8634"
      },
      "outputs": [],
      "source": [
        "# GridSearch (with PCA only data)\n",
        "from sklearn.model_selection import GridSearchCV\n",
        "svm_clf = SVC(random_state=42)\n",
        "\n",
        "param_grid = [\n",
        "    {'C': [1, 10, 100], 'kernel': ['linear']},\n",
        "    {'C': [.1, 1, 10, 100], 'gamma': [0.001, 0.0001], 'kernel': ['rbf']}\n",
        "]\n",
        "\n",
        "search = GridSearchCV(svm_clf, param_grid=param_grid, scoring='roc_auc', cv=5, refit=True, verbose=1)\n",
        "search.fit(X_train_pca, y_train)"
      ]
    },
    {
      "cell_type": "code",
      "execution_count": null,
      "metadata": {
        "colab": {
          "base_uri": "https://localhost:8080/"
        },
        "id": "GxoTTZdNujpS",
        "outputId": "a5d0586c-de62-4109-d7cf-91800b8cd929"
      },
      "outputs": [],
      "source": [
        "# RBF-SVM with PCA\n",
        "\n",
        "svm_clf = SVC(**search.best_params_)\n",
        "svm_clf.fit(X_train_pca, y_train)\n",
        "\n",
        "evaluate(svm_clf, X_train_pca, X_test_pca, y_train, y_test)"
      ]
    },
    {
      "cell_type": "code",
      "execution_count": null,
      "metadata": {
        "colab": {
          "base_uri": "https://localhost:8080/"
        },
        "id": "S68SYei-YsQH",
        "outputId": "285e34ce-74fa-414a-d9f2-85c7925747bd"
      },
      "outputs": [],
      "source": [
        "# RBF-SVM without SMOTE or PCA\n",
        "\n",
        "svm_clf = SVC(kernel='rbf', C=100, gamma=0.001)\n",
        "svm_clf.fit(X_train_std, y_train)\n",
        "\n",
        "evaluate(svm_clf, X_train_std, X_test_std, y_train, y_test)"
      ]
    },
    {
      "cell_type": "markdown",
      "metadata": {
        "id": "_fe9FH3hKs4m"
      },
      "source": [
        "# Artificial Neural Network"
      ]
    },
    {
      "cell_type": "code",
      "execution_count": null,
      "metadata": {},
      "outputs": [],
      "source": [
        "pip install tensorflow"
      ]
    },
    {
      "cell_type": "code",
      "execution_count": null,
      "metadata": {},
      "outputs": [],
      "source": [
        "import tensorflow as tf\n",
        "from tensorflow.keras.models import Sequential\n",
        "from tensorflow.keras.layers import Dense, Dropout\n",
        "from tensorflow.keras.optimizers import Adam"
      ]
    },
    {
      "cell_type": "code",
      "execution_count": null,
      "metadata": {
        "colab": {
          "base_uri": "https://localhost:8080/"
        },
        "id": "CamuUc70UvDO",
        "outputId": "07791837-1267-4294-d251-3a58011def79"
      },
      "outputs": [],
      "source": [
        "# ANN with SMOTE and PCA\n",
        "\n",
        "# Seed\n",
        "tf.keras.utils.set_random_seed(42)\n",
        "\n",
        "model_ann = Sequential()\n",
        "# Input layer and first hidden layer\n",
        "model_ann.add(Dense(64, activation='relu', input_shape=(X_train_std_pca.shape[1],)))\n",
        "model_ann.add(Dropout(0.3))        #helps prevent overfitting\n",
        "\n",
        "# Second hidden layer\n",
        "model_ann.add(Dense(32, activation='relu'))\n",
        "\n",
        "# Output layer\n",
        "model_ann.add(Dense(1, activation='sigmoid'))  # Binary classification\n",
        "\n",
        "model_ann.compile(\n",
        "    optimizer=Adam(learning_rate=0.001),\n",
        "    loss='binary_crossentropy',\n",
        "    metrics=['accuracy', tf.keras.metrics.AUC(name='auc')]\n",
        ")\n",
        "\n",
        "history = model_ann.fit(\n",
        "    X_train_std_pca, y_train_std_resampled,\n",
        "    validation_data=(X_test_std_pca, y_test),\n",
        "    epochs=50,\n",
        "    batch_size=32,\n",
        "    verbose=1\n",
        ")\n"
      ]
    },
    {
      "cell_type": "code",
      "execution_count": null,
      "metadata": {
        "colab": {
          "base_uri": "https://localhost:8080/"
        },
        "id": "r-khx3yGcM_8",
        "outputId": "d11a6c82-4a54-4347-9abd-9709bf0f7cf4"
      },
      "outputs": [],
      "source": [
        "# Predict on test set\n",
        "y_test_prob = model_ann.predict(X_test_std_pca).ravel()\n",
        "y_test_pred = (y_test_prob > 0.5).astype(int)\n",
        "\n",
        "# Predict on train set\n",
        "y_train_prob = model_ann.predict(X_train_std_pca).ravel()\n",
        "y_train_pred = (y_train_prob > 0.5).astype(int)\n",
        "\n",
        "print(\"TRAINIG RESULTS: \\n===============================\")\n",
        "clf_report = pd.DataFrame(classification_report(y_train_std_resampled, y_train_pred, output_dict=True))\n",
        "print(f\"CONFUSION MATRIX:\\n{confusion_matrix(y_train_std_resampled, y_train_pred)}\")\n",
        "print(f\"ACCURACY SCORE:\\n{accuracy_score(y_train_std_resampled, y_train_pred):.4f}\")\n",
        "print(f\"CLASSIFICATION REPORT:\\n{clf_report}\")\n",
        "\n",
        "print(\"TESTING RESULTS: \\n===============================\")\n",
        "clf_report = pd.DataFrame(classification_report(y_test, y_test_pred, output_dict=True))\n",
        "print(f\"CONFUSION MATRIX:\\n{confusion_matrix(y_test, y_test_pred)}\")\n",
        "print(f\"ACCURACY SCORE:\\n{accuracy_score(y_test, y_test_pred):.4f}\")\n",
        "print(f\"CLASSIFICATION REPORT:\\n{clf_report}\")\n",
        "print(f\"PRECISION SCORE:\\n{precision_score(y_test, y_test_pred):.4f}\")\n",
        "print(f\"RECALL SCORE:\\n{recall_score(y_test, y_test_pred):.4f}\")\n",
        "print(f\"F1 SCORE:\\n{f1_score(y_test, y_test_pred):.4f}\")\n",
        "print(f\"AUC SCORE:\\n{roc_auc_score(y_test, y_test_pred):.4f}\")\n",
        "print(\"===============================\")"
      ]
    },
    {
      "cell_type": "code",
      "execution_count": null,
      "metadata": {
        "colab": {
          "base_uri": "https://localhost:8080/"
        },
        "id": "gMAyMmawR4Zv",
        "outputId": "27b46b81-8bf9-401f-8d08-19551b9ca977"
      },
      "outputs": [],
      "source": [
        "# ANN with SMOTE\n",
        "\n",
        "# Seed\n",
        "tf.keras.utils.set_random_seed(40)\n",
        "\n",
        "model_ann = Sequential()\n",
        "# Input layer and first hidden layer\n",
        "model_ann.add(Dense(64, activation='relu', input_shape=(X_train_std_resampled.shape[1],)))\n",
        "model_ann.add(Dropout(0.3))        #helps prevent overfitting\n",
        "\n",
        "# Second hidden layer\n",
        "model_ann.add(Dense(32, activation='relu'))\n",
        "\n",
        "# Output layer\n",
        "model_ann.add(Dense(1, activation='sigmoid'))  # Binary classification\n",
        "\n",
        "model_ann.compile(\n",
        "    optimizer=Adam(learning_rate=0.001),\n",
        "    loss='binary_crossentropy',\n",
        "    metrics=['accuracy']\n",
        ")\n",
        "\n",
        "history = model_ann.fit(\n",
        "    X_train_std_resampled, y_train_std_resampled,\n",
        "    validation_data=(X_test_std, y_test),\n",
        "    epochs=50,\n",
        "    batch_size=32,\n",
        "    verbose=1\n",
        ")"
      ]
    },
    {
      "cell_type": "code",
      "execution_count": null,
      "metadata": {
        "colab": {
          "base_uri": "https://localhost:8080/"
        },
        "id": "Y6Folx8tSPeO",
        "outputId": "6f2ac3c0-38fa-4972-85cd-64b7c35faf50"
      },
      "outputs": [],
      "source": [
        "# Predict on test set\n",
        "y_test_prob = model_ann.predict(X_test_std).ravel()\n",
        "y_test_pred = (y_test_prob > 0.5).astype(int)\n",
        "\n",
        "# Predict on train set\n",
        "y_train_prob = model_ann.predict(X_train_std_resampled).ravel()\n",
        "y_train_pred = (y_train_prob > 0.5).astype(int)\n",
        "\n",
        "print(\"TRAINIG RESULTS: \\n===============================\")\n",
        "clf_report = pd.DataFrame(classification_report(y_train_std_resampled, y_train_pred, output_dict=True))\n",
        "print(f\"CONFUSION MATRIX:\\n{confusion_matrix(y_train_std_resampled, y_train_pred)}\")\n",
        "print(f\"ACCURACY SCORE:\\n{accuracy_score(y_train_std_resampled, y_train_pred):.4f}\")\n",
        "print(f\"CLASSIFICATION REPORT:\\n{clf_report}\")\n",
        "\n",
        "print(\"TESTING RESULTS: \\n===============================\")\n",
        "clf_report = pd.DataFrame(classification_report(y_test, y_test_pred, output_dict=True))\n",
        "print(f\"CONFUSION MATRIX:\\n{confusion_matrix(y_test, y_test_pred)}\")\n",
        "print(f\"ACCURACY SCORE:\\n{accuracy_score(y_test, y_test_pred):.4f}\")\n",
        "print(f\"CLASSIFICATION REPORT:\\n{clf_report}\")\n",
        "print(f\"PRECISION SCORE:\\n{precision_score(y_test, y_test_pred):.4f}\")\n",
        "print(f\"RECALL SCORE:\\n{recall_score(y_test, y_test_pred):.4f}\")\n",
        "print(f\"F1 SCORE:\\n{f1_score(y_test, y_test_pred):.4f}\")\n",
        "print(f\"AUC SCORE:\\n{roc_auc_score(y_test, y_test_pred):.4f}\")\n",
        "print(\"===============================\")"
      ]
    },
    {
      "cell_type": "code",
      "execution_count": null,
      "metadata": {
        "colab": {
          "base_uri": "https://localhost:8080/"
        },
        "id": "WgxtFJgE_E_U",
        "outputId": "592262e3-8ba8-4c8a-e76a-b40aa591f57b"
      },
      "outputs": [],
      "source": [
        "# ANN with PCA\n",
        "\n",
        "# Seed\n",
        "tf.keras.utils.set_random_seed(32)\n",
        "\n",
        "model_ann = Sequential()\n",
        "# Input layer and first hidden layer\n",
        "model_ann.add(Dense(64, activation='relu', input_shape=(X_train_pca.shape[1],)))\n",
        "model_ann.add(Dropout(0.3))        #helps prevent overfitting\n",
        "\n",
        "# Second hidden layer\n",
        "model_ann.add(Dense(32, activation='relu'))\n",
        "\n",
        "# Output layer\n",
        "model_ann.add(Dense(1, activation='sigmoid'))  # Binary classification\n",
        "\n",
        "model_ann.compile(\n",
        "    optimizer=Adam(learning_rate=0.001),\n",
        "    loss='binary_crossentropy',\n",
        "    metrics=['accuracy']\n",
        ")\n",
        "\n",
        "history = model_ann.fit(\n",
        "    X_train_pca, y_train,\n",
        "    validation_data=(X_test_pca, y_test),\n",
        "    epochs=50,\n",
        "    batch_size=32,\n",
        "    verbose=1\n",
        ")"
      ]
    },
    {
      "cell_type": "code",
      "execution_count": null,
      "metadata": {
        "colab": {
          "base_uri": "https://localhost:8080/"
        },
        "id": "w4JK1CaJ_GE8",
        "outputId": "41bb611b-c253-4d66-a463-c357d188acf3"
      },
      "outputs": [],
      "source": [
        "# Predict on test set\n",
        "y_test_prob = model_ann.predict(X_test_pca).ravel()\n",
        "y_test_pred = (y_test_prob > 0.5).astype(int)\n",
        "\n",
        "# Predict on train set\n",
        "y_train_prob = model_ann.predict(X_train_pca).ravel()\n",
        "y_train_pred = (y_train_prob > 0.5).astype(int)\n",
        "\n",
        "print(\"TRAINIG RESULTS: \\n===============================\")\n",
        "clf_report = pd.DataFrame(classification_report(y_train, y_train_pred, output_dict=True))\n",
        "print(f\"CONFUSION MATRIX:\\n{confusion_matrix(y_train, y_train_pred)}\")\n",
        "print(f\"ACCURACY SCORE:\\n{accuracy_score(y_train, y_train_pred):.4f}\")\n",
        "print(f\"CLASSIFICATION REPORT:\\n{clf_report}\")\n",
        "\n",
        "print(\"TESTING RESULTS: \\n===============================\")\n",
        "clf_report = pd.DataFrame(classification_report(y_test, y_test_pred, output_dict=True))\n",
        "print(f\"CONFUSION MATRIX:\\n{confusion_matrix(y_test, y_test_pred)}\")\n",
        "print(f\"ACCURACY SCORE:\\n{accuracy_score(y_test, y_test_pred):.4f}\")\n",
        "print(f\"CLASSIFICATION REPORT:\\n{clf_report}\")\n",
        "print(f\"PRECISION SCORE:\\n{precision_score(y_test, y_test_pred):.4f}\")\n",
        "print(f\"RECALL SCORE:\\n{recall_score(y_test, y_test_pred):.4f}\")\n",
        "print(f\"F1 SCORE:\\n{f1_score(y_test, y_test_pred):.4f}\")\n",
        "print(f\"AUC SCORE:\\n{roc_auc_score(y_test, y_test_pred):.4f}\")\n",
        "print(\"===============================\")"
      ]
    },
    {
      "cell_type": "code",
      "execution_count": null,
      "metadata": {
        "colab": {
          "base_uri": "https://localhost:8080/"
        },
        "id": "bGd-WAqHYbFu",
        "outputId": "8fa96b88-c735-4d86-a785-83d93cfb92a1"
      },
      "outputs": [],
      "source": [
        "# ANN without SMOTE or PCA\n",
        "\n",
        "# Set random seeds for reproducibility\n",
        "tf.keras.utils.set_random_seed(40)\n",
        "\n",
        "model_ann = Sequential()\n",
        "\n",
        "# Input layer and first hidden layer\n",
        "model_ann.add(Dense(64, activation='relu', input_shape=(X_train_std.shape[1],)))\n",
        "model_ann.add(Dropout(0.3))  # Prevent overfitting\n",
        "\n",
        "# Second hidden layer\n",
        "model_ann.add(Dense(32, activation='relu'))\n",
        "\n",
        "# Output layer\n",
        "model_ann.add(Dense(1, activation='sigmoid'))  # Binary classification\n",
        "\n",
        "model_ann.compile(\n",
        "    optimizer=Adam(learning_rate=0.001),\n",
        "    loss='binary_crossentropy',\n",
        "    metrics=['accuracy', tf.keras.metrics.AUC(name='auc')]\n",
        ")\n",
        "\n",
        "history = model_ann.fit(\n",
        "    X_train_std, y_train,\n",
        "    validation_data=(X_test_std, y_test),\n",
        "    epochs=50,\n",
        "    batch_size=32,\n",
        "    verbose=1\n",
        ")"
      ]
    },
    {
      "cell_type": "code",
      "execution_count": null,
      "metadata": {
        "colab": {
          "base_uri": "https://localhost:8080/"
        },
        "id": "lYfKiKoWIy1S",
        "outputId": "697f7d7e-3cce-4739-ce61-c9dc476f344b"
      },
      "outputs": [],
      "source": [
        "# Predict on test set\n",
        "y_test_prob = model_ann.predict(X_test_std).ravel()\n",
        "y_test_pred = (y_test_prob > 0.5).astype(int)\n",
        "\n",
        "# Predict on train set\n",
        "y_train_prob = model_ann.predict(X_train_std).ravel()\n",
        "y_train_pred = (y_train_prob > 0.5).astype(int)\n",
        "\n",
        "print(\"TRAINIG RESULTS: \\n===============================\")\n",
        "clf_report = pd.DataFrame(classification_report(y_train, y_train_pred, output_dict=True))\n",
        "print(f\"CONFUSION MATRIX:\\n{confusion_matrix(y_train, y_train_pred)}\")\n",
        "print(f\"ACCURACY SCORE:\\n{accuracy_score(y_train, y_train_pred):.4f}\")\n",
        "print(f\"CLASSIFICATION REPORT:\\n{clf_report}\")\n",
        "\n",
        "print(\"TESTING RESULTS: \\n===============================\")\n",
        "clf_report = pd.DataFrame(classification_report(y_test, y_test_pred, output_dict=True))\n",
        "print(f\"CONFUSION MATRIX:\\n{confusion_matrix(y_test, y_test_pred)}\")\n",
        "print(f\"ACCURACY SCORE:\\n{accuracy_score(y_test, y_test_pred):.4f}\")\n",
        "print(f\"CLASSIFICATION REPORT:\\n{clf_report}\")\n",
        "print(f\"PRECISION SCORE:\\n{precision_score(y_test, y_test_pred):.4f}\")\n",
        "print(f\"RECALL SCORE:\\n{recall_score(y_test, y_test_pred):.4f}\")\n",
        "print(f\"F1 SCORE:\\n{f1_score(y_test, y_test_pred):.4f}\")\n",
        "print(f\"AUC SCORE:\\n{roc_auc_score(y_test, y_test_pred):.4f}\")\n",
        "print(\"===============================\")"
      ]
    }
  ],
  "metadata": {
    "colab": {
      "provenance": []
    },
    "kernelspec": {
      "display_name": "Python 3",
      "name": "python3"
    },
    "language_info": {
      "codemirror_mode": {
        "name": "ipython",
        "version": 3
      },
      "file_extension": ".py",
      "mimetype": "text/x-python",
      "name": "python",
      "nbconvert_exporter": "python",
      "pygments_lexer": "ipython3",
      "version": "3.12.1"
    }
  },
  "nbformat": 4,
  "nbformat_minor": 0
}
